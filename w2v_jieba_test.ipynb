{
 "cells": [
  {
   "cell_type": "code",
   "execution_count": 1,
   "metadata": {},
   "outputs": [],
   "source": [
    "import pymongo\n",
    "import json\n",
    "import jieba\n",
    "import re\n",
    "import time"
   ]
  },
  {
   "cell_type": "code",
   "execution_count": 2,
   "metadata": {},
   "outputs": [],
   "source": [
    "def mongo_connect_build(db_name, col_name):\n",
    "    \n",
    "    global mycol\n",
    "    client = pymongo.MongoClient(\"mongodb://192.168.1.25:27017/\") # 跟mongodb建立連\n",
    "\n",
    "    db = client[db_name] # 選擇使用的db,不存在則會在資料輸入時自動建立\n",
    "    mycol = db[col_name] # 選擇collection,不存在則會在資料輸入時自動建立\n",
    "    \n",
    "def data_find():\n",
    "    # 尋找多筆資料\n",
    "    return mycol.find({}, {\"_id\":0})"
   ]
  },
  {
   "cell_type": "code",
   "execution_count": null,
   "metadata": {},
   "outputs": [],
   "source": []
  },
  {
   "cell_type": "code",
   "execution_count": 3,
   "metadata": {},
   "outputs": [],
   "source": [
    "def create_w2v_list(job_data):\n",
    "    w2v_list = []\n",
    "    for i in job_data:\n",
    "        content_list = []\n",
    "        content_list.append(i['jobURL'])\n",
    "        for j in i['jobDescription_concate_jieba']:\n",
    "            for k in j:\n",
    "                content_list.append(k)\n",
    "            w2v_list.append(content_list)\n",
    "    return w2v_list"
   ]
  },
  {
   "cell_type": "code",
   "execution_count": 4,
   "metadata": {},
   "outputs": [],
   "source": [
    "from gensim.models import Word2Vec\n",
    "import pandas as pd"
   ]
  },
  {
   "cell_type": "code",
   "execution_count": 18,
   "metadata": {},
   "outputs": [],
   "source": [
    "# train word2vec model\n",
    "def word2vec_model_train(train_list):\n",
    "\n",
    "    num_features = 100  \n",
    "    # Word vector dimensionality - The size of the dense vector to represent each token or word \n",
    "    #(i.e. the context or neighboring words). If you have limited data, then size should be a much smaller value \n",
    "    #since you would only have so many unique neighbors for a given word\n",
    "\n",
    "    min_word_count = 1                        \n",
    "    # Minimium frequency count of words. The model would ignore words that do not satisfy the min_count.\n",
    "\n",
    "    num_workers = 8       # How many threads to use behind the scenes?\n",
    "\n",
    "    context =  50         \n",
    "    # The maximum distance between the target word and its neighboring word.  \n",
    "\n",
    "    downsampling = 1e-2   \n",
    "    # threshold for configuring which higher-frequency words are randomly downsampled\n",
    "\n",
    "    # Initialize and train the model \n",
    "    model = Word2Vec(train_list, workers=num_workers, \\\n",
    "                size=num_features, min_count = min_word_count, \\\n",
    "                window = context,sample = downsampling, iter=10,sg=1)\n",
    "\n",
    "    # If you don't plan to train the model any further, calling \n",
    "    # init_sims will make the model much more memory-efficient.\n",
    "    model.init_sims(replace=True)\n",
    "\n",
    "    \n",
    "    return model\n",
    "    "
   ]
  },
  {
   "cell_type": "code",
   "execution_count": 19,
   "metadata": {},
   "outputs": [],
   "source": [
    "mongo_connect_build('jieba_clean', 'job_clean') \n",
    "job_data = data_find()\n",
    "w2v_list = create_w2v_list(job_data)"
   ]
  },
  {
   "cell_type": "code",
   "execution_count": 20,
   "metadata": {},
   "outputs": [
    {
     "ename": "MemoryError",
     "evalue": "Unable to allocate 91.6 MiB for an array with shape (240141, 100) and data type float32",
     "output_type": "error",
     "traceback": [
      "\u001b[1;31m---------------------------------------------------------------------------\u001b[0m",
      "\u001b[1;31mMemoryError\u001b[0m                               Traceback (most recent call last)",
      "\u001b[1;32m<ipython-input-20-f1c1b4f7626e>\u001b[0m in \u001b[0;36m<module>\u001b[1;34m\u001b[0m\n\u001b[0;32m      1\u001b[0m \u001b[0mstart\u001b[0m \u001b[1;33m=\u001b[0m \u001b[0mtime\u001b[0m\u001b[1;33m.\u001b[0m\u001b[0mtime\u001b[0m\u001b[1;33m(\u001b[0m\u001b[1;33m)\u001b[0m\u001b[1;33m\u001b[0m\u001b[1;33m\u001b[0m\u001b[0m\n\u001b[1;32m----> 2\u001b[1;33m \u001b[0mmodel\u001b[0m \u001b[1;33m=\u001b[0m \u001b[0mword2vec_model_train\u001b[0m\u001b[1;33m(\u001b[0m\u001b[0mw2v_list\u001b[0m\u001b[1;33m)\u001b[0m\u001b[1;33m\u001b[0m\u001b[1;33m\u001b[0m\u001b[0m\n\u001b[0m\u001b[0;32m      3\u001b[0m \u001b[0mend\u001b[0m \u001b[1;33m=\u001b[0m \u001b[0mtime\u001b[0m\u001b[1;33m.\u001b[0m\u001b[0mtime\u001b[0m\u001b[1;33m(\u001b[0m\u001b[1;33m)\u001b[0m\u001b[1;33m\u001b[0m\u001b[1;33m\u001b[0m\u001b[0m\n\u001b[0;32m      4\u001b[0m \u001b[0mprint\u001b[0m\u001b[1;33m(\u001b[0m\u001b[0mend\u001b[0m\u001b[1;33m-\u001b[0m\u001b[0mstart\u001b[0m\u001b[1;33m)\u001b[0m\u001b[1;33m\u001b[0m\u001b[1;33m\u001b[0m\u001b[0m\n",
      "\u001b[1;32m<ipython-input-18-9bc43c1aa3c2>\u001b[0m in \u001b[0;36mword2vec_model_train\u001b[1;34m(train_list)\u001b[0m\n\u001b[0;32m     25\u001b[0m     \u001b[1;31m# If you don't plan to train the model any further, calling\u001b[0m\u001b[1;33m\u001b[0m\u001b[1;33m\u001b[0m\u001b[1;33m\u001b[0m\u001b[0m\n\u001b[0;32m     26\u001b[0m     \u001b[1;31m# init_sims will make the model much more memory-efficient.\u001b[0m\u001b[1;33m\u001b[0m\u001b[1;33m\u001b[0m\u001b[1;33m\u001b[0m\u001b[0m\n\u001b[1;32m---> 27\u001b[1;33m     \u001b[0mmodel\u001b[0m\u001b[1;33m.\u001b[0m\u001b[0minit_sims\u001b[0m\u001b[1;33m(\u001b[0m\u001b[0mreplace\u001b[0m\u001b[1;33m=\u001b[0m\u001b[1;32mTrue\u001b[0m\u001b[1;33m)\u001b[0m\u001b[1;33m\u001b[0m\u001b[1;33m\u001b[0m\u001b[0m\n\u001b[0m\u001b[0;32m     28\u001b[0m \u001b[1;33m\u001b[0m\u001b[0m\n\u001b[0;32m     29\u001b[0m \u001b[1;33m\u001b[0m\u001b[0m\n",
      "\u001b[1;32mc:\\users\\big data\\pycharmprojects\\pyetl\\venv\\lib\\site-packages\\gensim\\models\\word2vec.py\u001b[0m in \u001b[0;36minit_sims\u001b[1;34m(self, replace)\u001b[0m\n\u001b[0;32m    990\u001b[0m         \u001b[1;32mif\u001b[0m \u001b[0mreplace\u001b[0m \u001b[1;32mand\u001b[0m \u001b[0mhasattr\u001b[0m\u001b[1;33m(\u001b[0m\u001b[0mself\u001b[0m\u001b[1;33m.\u001b[0m\u001b[0mtrainables\u001b[0m\u001b[1;33m,\u001b[0m \u001b[1;34m'syn1'\u001b[0m\u001b[1;33m)\u001b[0m\u001b[1;33m:\u001b[0m\u001b[1;33m\u001b[0m\u001b[1;33m\u001b[0m\u001b[0m\n\u001b[0;32m    991\u001b[0m             \u001b[1;32mdel\u001b[0m \u001b[0mself\u001b[0m\u001b[1;33m.\u001b[0m\u001b[0mtrainables\u001b[0m\u001b[1;33m.\u001b[0m\u001b[0msyn1\u001b[0m\u001b[1;33m\u001b[0m\u001b[1;33m\u001b[0m\u001b[0m\n\u001b[1;32m--> 992\u001b[1;33m         \u001b[1;32mreturn\u001b[0m \u001b[0mself\u001b[0m\u001b[1;33m.\u001b[0m\u001b[0mwv\u001b[0m\u001b[1;33m.\u001b[0m\u001b[0minit_sims\u001b[0m\u001b[1;33m(\u001b[0m\u001b[0mreplace\u001b[0m\u001b[1;33m)\u001b[0m\u001b[1;33m\u001b[0m\u001b[1;33m\u001b[0m\u001b[0m\n\u001b[0m\u001b[0;32m    993\u001b[0m \u001b[1;33m\u001b[0m\u001b[0m\n\u001b[0;32m    994\u001b[0m     \u001b[1;32mdef\u001b[0m \u001b[0mreset_from\u001b[0m\u001b[1;33m(\u001b[0m\u001b[0mself\u001b[0m\u001b[1;33m,\u001b[0m \u001b[0mother_model\u001b[0m\u001b[1;33m)\u001b[0m\u001b[1;33m:\u001b[0m\u001b[1;33m\u001b[0m\u001b[1;33m\u001b[0m\u001b[0m\n",
      "\u001b[1;32mc:\\users\\big data\\pycharmprojects\\pyetl\\venv\\lib\\site-packages\\gensim\\models\\keyedvectors.py\u001b[0m in \u001b[0;36minit_sims\u001b[1;34m(self, replace)\u001b[0m\n\u001b[0;32m   1352\u001b[0m         \u001b[1;32mif\u001b[0m \u001b[0mgetattr\u001b[0m\u001b[1;33m(\u001b[0m\u001b[0mself\u001b[0m\u001b[1;33m,\u001b[0m \u001b[1;34m'vectors_norm'\u001b[0m\u001b[1;33m,\u001b[0m \u001b[1;32mNone\u001b[0m\u001b[1;33m)\u001b[0m \u001b[1;32mis\u001b[0m \u001b[1;32mNone\u001b[0m \u001b[1;32mor\u001b[0m \u001b[0mreplace\u001b[0m\u001b[1;33m:\u001b[0m\u001b[1;33m\u001b[0m\u001b[1;33m\u001b[0m\u001b[0m\n\u001b[0;32m   1353\u001b[0m             \u001b[0mlogger\u001b[0m\u001b[1;33m.\u001b[0m\u001b[0minfo\u001b[0m\u001b[1;33m(\u001b[0m\u001b[1;34m\"precomputing L2-norms of word weight vectors\"\u001b[0m\u001b[1;33m)\u001b[0m\u001b[1;33m\u001b[0m\u001b[1;33m\u001b[0m\u001b[0m\n\u001b[1;32m-> 1354\u001b[1;33m             \u001b[0mself\u001b[0m\u001b[1;33m.\u001b[0m\u001b[0mvectors_norm\u001b[0m \u001b[1;33m=\u001b[0m \u001b[0m_l2_norm\u001b[0m\u001b[1;33m(\u001b[0m\u001b[0mself\u001b[0m\u001b[1;33m.\u001b[0m\u001b[0mvectors\u001b[0m\u001b[1;33m,\u001b[0m \u001b[0mreplace\u001b[0m\u001b[1;33m=\u001b[0m\u001b[0mreplace\u001b[0m\u001b[1;33m)\u001b[0m\u001b[1;33m\u001b[0m\u001b[1;33m\u001b[0m\u001b[0m\n\u001b[0m\u001b[0;32m   1355\u001b[0m \u001b[1;33m\u001b[0m\u001b[0m\n\u001b[0;32m   1356\u001b[0m     \u001b[1;32mdef\u001b[0m \u001b[0mrelative_cosine_similarity\u001b[0m\u001b[1;33m(\u001b[0m\u001b[0mself\u001b[0m\u001b[1;33m,\u001b[0m \u001b[0mwa\u001b[0m\u001b[1;33m,\u001b[0m \u001b[0mwb\u001b[0m\u001b[1;33m,\u001b[0m \u001b[0mtopn\u001b[0m\u001b[1;33m=\u001b[0m\u001b[1;36m10\u001b[0m\u001b[1;33m)\u001b[0m\u001b[1;33m:\u001b[0m\u001b[1;33m\u001b[0m\u001b[1;33m\u001b[0m\u001b[0m\n",
      "\u001b[1;32mc:\\users\\big data\\pycharmprojects\\pyetl\\venv\\lib\\site-packages\\gensim\\models\\keyedvectors.py\u001b[0m in \u001b[0;36m_l2_norm\u001b[1;34m(m, replace)\u001b[0m\n\u001b[0;32m   2382\u001b[0m \u001b[1;33m\u001b[0m\u001b[0m\n\u001b[0;32m   2383\u001b[0m     \"\"\"\n\u001b[1;32m-> 2384\u001b[1;33m     \u001b[0mdist\u001b[0m \u001b[1;33m=\u001b[0m \u001b[0msqrt\u001b[0m\u001b[1;33m(\u001b[0m\u001b[1;33m(\u001b[0m\u001b[0mm\u001b[0m \u001b[1;33m**\u001b[0m \u001b[1;36m2\u001b[0m\u001b[1;33m)\u001b[0m\u001b[1;33m.\u001b[0m\u001b[0msum\u001b[0m\u001b[1;33m(\u001b[0m\u001b[1;33m-\u001b[0m\u001b[1;36m1\u001b[0m\u001b[1;33m)\u001b[0m\u001b[1;33m)\u001b[0m\u001b[1;33m[\u001b[0m\u001b[1;33m...\u001b[0m\u001b[1;33m,\u001b[0m \u001b[0mnewaxis\u001b[0m\u001b[1;33m]\u001b[0m\u001b[1;33m\u001b[0m\u001b[1;33m\u001b[0m\u001b[0m\n\u001b[0m\u001b[0;32m   2385\u001b[0m     \u001b[1;32mif\u001b[0m \u001b[0mreplace\u001b[0m\u001b[1;33m:\u001b[0m\u001b[1;33m\u001b[0m\u001b[1;33m\u001b[0m\u001b[0m\n\u001b[0;32m   2386\u001b[0m         \u001b[0mm\u001b[0m \u001b[1;33m/=\u001b[0m \u001b[0mdist\u001b[0m\u001b[1;33m\u001b[0m\u001b[1;33m\u001b[0m\u001b[0m\n",
      "\u001b[1;31mMemoryError\u001b[0m: Unable to allocate 91.6 MiB for an array with shape (240141, 100) and data type float32"
     ]
    }
   ],
   "source": [
    "start = time.time()\n",
    "model = word2vec_model_train(w2v_list)\n",
    "end = time.time()\n",
    "print(end-start)"
   ]
  },
  {
   "cell_type": "code",
   "execution_count": 139,
   "metadata": {},
   "outputs": [
    {
     "data": {
      "text/plain": [
       "15382"
      ]
     },
     "execution_count": 139,
     "metadata": {},
     "output_type": "execute_result"
    }
   ],
   "source": [
    "len(model2.wv.vocab)"
   ]
  },
  {
   "cell_type": "code",
   "execution_count": 168,
   "metadata": {},
   "outputs": [
    {
     "data": {
      "text/plain": [
       "253059"
      ]
     },
     "execution_count": 168,
     "metadata": {},
     "output_type": "execute_result"
    }
   ],
   "source": [
    "len(model.wv.vocab)"
   ]
  },
  {
   "cell_type": "code",
   "execution_count": 52,
   "metadata": {},
   "outputs": [
    {
     "data": {
      "text/plain": [
       "0.63947165"
      ]
     },
     "execution_count": 52,
     "metadata": {},
     "output_type": "execute_result"
    }
   ],
   "source": [
    "model2.wv.similarity('C++','C')"
   ]
  },
  {
   "cell_type": "code",
   "execution_count": null,
   "metadata": {},
   "outputs": [],
   "source": []
  },
  {
   "cell_type": "code",
   "execution_count": 189,
   "metadata": {},
   "outputs": [
    {
     "data": {
      "text/plain": [
       "[('Python', 0.7930799126625061),\n",
       " ('程式語言', 0.772395133972168),\n",
       " ('ruby', 0.7563279271125793),\n",
       " ('script', 0.7531508803367615),\n",
       " ('shell', 0.7432862520217896),\n",
       " ('5xlbc', 0.7243491411209106),\n",
       " ('5uu1e', 0.7226487398147583),\n",
       " ('6w0gd', 0.7186757326126099),\n",
       " ('6gaqg', 0.7179631590843201),\n",
       " ('6g3dw', 0.7160500288009644)]"
      ]
     },
     "execution_count": 189,
     "metadata": {},
     "output_type": "execute_result"
    }
   ],
   "source": [
    "model.wv.similar_by_word('python',10)"
   ]
  },
  {
   "cell_type": "code",
   "execution_count": 207,
   "metadata": {},
   "outputs": [],
   "source": [
    "list1 = [1,2,3,5,6,58,5,1,2,6,5,8,8,9]\n"
   ]
  },
  {
   "cell_type": "code",
   "execution_count": 276,
   "metadata": {},
   "outputs": [
    {
     "data": {
      "text/plain": [
       "'[1, 2, 3, 5, 6, 58, 5, 1, 2, 6, 5, 8, 8, 9]'"
      ]
     },
     "execution_count": 276,
     "metadata": {},
     "output_type": "execute_result"
    }
   ],
   "source": [
    "str(list1)"
   ]
  },
  {
   "cell_type": "code",
   "execution_count": 208,
   "metadata": {},
   "outputs": [],
   "source": [
    "list2 =[ 1 , 2 ]"
   ]
  },
  {
   "cell_type": "code",
   "execution_count": 209,
   "metadata": {},
   "outputs": [],
   "source": [
    "red = set(list1).difference(set(list2))"
   ]
  },
  {
   "cell_type": "code",
   "execution_count": 210,
   "metadata": {},
   "outputs": [
    {
     "data": {
      "text/plain": [
       "[3, 5, 6, 8, 9, 58]"
      ]
     },
     "execution_count": 210,
     "metadata": {},
     "output_type": "execute_result"
    }
   ],
   "source": [
    "list(red)"
   ]
  },
  {
   "cell_type": "code",
   "execution_count": 19,
   "metadata": {},
   "outputs": [
    {
     "data": {
      "text/plain": [
       "array([-0.02406428,  0.08614185,  0.02169432,  0.16338739,  0.06596969,\n",
       "        0.13224995,  0.00204856,  0.03027849,  0.09268135,  0.11537158,\n",
       "       -0.10687488,  0.09115923,  0.13698034, -0.12667327,  0.12978059,\n",
       "        0.04780197,  0.06423998,  0.05791758,  0.0889708 , -0.04285268,\n",
       "       -0.04753185, -0.2034014 ,  0.03724982, -0.24740845, -0.07954762,\n",
       "        0.06389075, -0.03674269, -0.16379875, -0.06538887,  0.12597714,\n",
       "        0.07045333,  0.0846191 , -0.16002522, -0.02081924,  0.14007857,\n",
       "       -0.09545433,  0.02676995, -0.15825096,  0.18485475, -0.22439112,\n",
       "       -0.06076177, -0.04804259, -0.07679004,  0.06647041, -0.04893087,\n",
       "        0.02179792,  0.12158722, -0.11509437,  0.02999016, -0.02175469,\n",
       "       -0.11504382, -0.04266534, -0.06254386, -0.00544163,  0.06795856,\n",
       "       -0.09189986, -0.05998932, -0.00036083, -0.04852202, -0.0045443 ,\n",
       "       -0.08385105, -0.09531191,  0.04042646, -0.07308476,  0.09404213,\n",
       "       -0.07935526,  0.03167712, -0.00650266,  0.02178251,  0.23031332,\n",
       "        0.08870389, -0.05062526, -0.02519903, -0.10393007, -0.19158445,\n",
       "       -0.07993455,  0.18047415,  0.09880561,  0.14027518, -0.00475948,\n",
       "        0.21427722,  0.10195401, -0.18828648, -0.00759404, -0.16957088,\n",
       "        0.09172225,  0.02216154,  0.08036174, -0.02103348, -0.05703087,\n",
       "        0.07209244, -0.09158575,  0.03046828,  0.02092293,  0.04771417,\n",
       "       -0.01313018, -0.05082836,  0.0873882 , -0.07561412,  0.08796636],\n",
       "      dtype=float32)"
      ]
     },
     "execution_count": 19,
     "metadata": {},
     "output_type": "execute_result"
    }
   ],
   "source": [
    "model.wv.get_vector('python')"
   ]
  },
  {
   "cell_type": "code",
   "execution_count": 20,
   "metadata": {},
   "outputs": [
    {
     "data": {
      "text/plain": [
       "[('Python', 0.8116046786308289),\n",
       " ('shell', 0.8063044548034668),\n",
       " ('程式語言', 0.7989211678504944),\n",
       " ('script', 0.7883110642433167),\n",
       " ('6gaqg', 0.7339938282966614),\n",
       " ('ruby', 0.7338851094245911),\n",
       " ('5uu1f', 0.7330427765846252),\n",
       " ('Perl', 0.7255404591560364),\n",
       " ('Shell', 0.7251117825508118),\n",
       " ('5uu1l', 0.72418212890625)]"
      ]
     },
     "execution_count": 20,
     "metadata": {},
     "output_type": "execute_result"
    }
   ],
   "source": [
    "model.wv.most_similar(positive=['python'],negative=[])"
   ]
  },
  {
   "cell_type": "code",
   "execution_count": 42,
   "metadata": {},
   "outputs": [
    {
     "data": {
      "text/plain": [
       "[('Python', 0.7930799126625061),\n",
       " ('程式語言', 0.772395133972168),\n",
       " ('ruby', 0.7563279271125793),\n",
       " ('script', 0.7531508803367615),\n",
       " ('shell', 0.7432862520217896),\n",
       " ('5xlbc', 0.7243491411209106),\n",
       " ('5uu1e', 0.7226487398147583),\n",
       " ('6w0gd', 0.7186756134033203),\n",
       " ('6gaqg', 0.7179630994796753),\n",
       " ('6g3dw', 0.7160500288009644)]"
      ]
     },
     "execution_count": 42,
     "metadata": {},
     "output_type": "execute_result"
    }
   ],
   "source": [
    "model.wv.most_similar(positive=['python'],negative=[])"
   ]
  },
  {
   "cell_type": "code",
   "execution_count": 22,
   "metadata": {},
   "outputs": [
    {
     "data": {
      "text/plain": [
       "[('Python', 0.7691971063613892),\n",
       " ('程式語言', 0.7682272791862488),\n",
       " ('script', 0.7066988348960876),\n",
       " ('C#', 0.6897382736206055),\n",
       " ('Linux', 0.6764562129974365),\n",
       " ('Matlab', 0.6670998930931091),\n",
       " ('Perl', 0.6670843362808228),\n",
       " ('autowareQualifications', 0.6650901436805725),\n",
       " ('3ddlx', 0.6633239388465881),\n",
       " ('Shell', 0.6617740392684937)]"
      ]
     },
     "execution_count": 22,
     "metadata": {},
     "output_type": "execute_result"
    }
   ],
   "source": [
    "model.wv.most_similar(positive=['C++', 'python', 'R'],negative=['thon'])"
   ]
  },
  {
   "cell_type": "code",
   "execution_count": 43,
   "metadata": {},
   "outputs": [
    {
     "data": {
      "text/plain": [
       "[('70q3m', 0.7572636008262634),\n",
       " ('69k8z', 0.7535014152526855),\n",
       " ('70vtv', 0.7367252707481384),\n",
       " ('6hxmt', 0.7352043986320496),\n",
       " ('6tgl5', 0.7256280183792114),\n",
       " ('4kczn', 0.7179206609725952),\n",
       " ('2vmlg', 0.7158065438270569),\n",
       " ('統整性', 0.7134905457496643),\n",
       " ('2gt66', 0.7120015025138855),\n",
       " ('6irrg', 0.7114624381065369)]"
      ]
     },
     "execution_count": 43,
     "metadata": {},
     "output_type": "execute_result"
    }
   ],
   "source": [
    "model.wv.most_similar(positive=['資訊', '工程師', '分析'],negative=[])"
   ]
  },
  {
   "cell_type": "code",
   "execution_count": 44,
   "metadata": {},
   "outputs": [
    {
     "data": {
      "text/plain": [
       "[('6nq02', 0.7448078989982605),\n",
       " ('振動訊', 0.7281510829925537),\n",
       " ('6q0d3', 0.7270560264587402),\n",
       " ('5yoxt', 0.7258511185646057),\n",
       " ('Python', 0.7237395644187927),\n",
       " ('65sc4', 0.7231495380401611),\n",
       " ('DxO', 0.7175673842430115),\n",
       " ('6u2rf', 0.7154831290245056),\n",
       " ('RCX', 0.7132389545440674),\n",
       " ('55l6x', 0.7107554078102112)]"
      ]
     },
     "execution_count": 44,
     "metadata": {},
     "output_type": "execute_result"
    }
   ],
   "source": [
    "model.wv.most_similar(positive=['python', '工程師', '分析'],negative=[])"
   ]
  },
  {
   "cell_type": "code",
   "execution_count": null,
   "metadata": {},
   "outputs": [],
   "source": []
  },
  {
   "cell_type": "code",
   "execution_count": 10,
   "metadata": {},
   "outputs": [],
   "source": [
    "def mongo_connect_resume(db_name, col_name):\n",
    "    \n",
    "    global col\n",
    "    client = pymongo.MongoClient(\"mongodb://192.168.1.25:27017/\") # 跟mongodb建立連\n",
    "\n",
    "    db = client[db_name] # 選擇使用的db,不存在則會在資料輸入時自動建立\n",
    "    col = db[col_name] # 選擇collection,不存在則會在資料輸入時自動建立\n",
    "    \n",
    "def resume_find():\n",
    "    # 尋找多筆資料\n",
    "    return col.find({},{\"_id\":0})"
   ]
  },
  {
   "cell_type": "code",
   "execution_count": 11,
   "metadata": {},
   "outputs": [],
   "source": [
    "mongo_connect_resume('cakeresume', 'Resume')\n",
    "resume_data = resume_find()"
   ]
  },
  {
   "cell_type": "code",
   "execution_count": 12,
   "metadata": {},
   "outputs": [
    {
     "ename": "NameError",
     "evalue": "name 'string_clean' is not defined",
     "output_type": "error",
     "traceback": [
      "\u001b[1;31m---------------------------------------------------------------------------\u001b[0m",
      "\u001b[1;31mNameError\u001b[0m                                 Traceback (most recent call last)",
      "\u001b[1;32m<ipython-input-12-9083b5dd6398>\u001b[0m in \u001b[0;36m<module>\u001b[1;34m\u001b[0m\n\u001b[0;32m      1\u001b[0m \u001b[0mresume_list\u001b[0m \u001b[1;33m=\u001b[0m \u001b[1;33m[\u001b[0m\u001b[1;33m]\u001b[0m\u001b[1;33m\u001b[0m\u001b[1;33m\u001b[0m\u001b[0m\n\u001b[0;32m      2\u001b[0m \u001b[1;32mfor\u001b[0m \u001b[0mi\u001b[0m \u001b[1;32min\u001b[0m \u001b[0mresume_data\u001b[0m\u001b[1;33m.\u001b[0m\u001b[0mlimit\u001b[0m\u001b[1;33m(\u001b[0m\u001b[1;36m10\u001b[0m\u001b[1;33m)\u001b[0m\u001b[1;33m:\u001b[0m\u001b[1;33m\u001b[0m\u001b[1;33m\u001b[0m\u001b[0m\n\u001b[1;32m----> 3\u001b[1;33m     \u001b[0mresume_clean\u001b[0m \u001b[1;33m=\u001b[0m \u001b[0mstring_clean\u001b[0m\u001b[1;33m(\u001b[0m\u001b[0mi\u001b[0m\u001b[1;33m[\u001b[0m\u001b[1;34m'value'\u001b[0m\u001b[1;33m]\u001b[0m\u001b[1;33m)\u001b[0m\u001b[1;33m\u001b[0m\u001b[1;33m\u001b[0m\u001b[0m\n\u001b[0m\u001b[0;32m      4\u001b[0m     \u001b[0mresume_result\u001b[0m \u001b[1;33m=\u001b[0m \u001b[0mjieba_cut\u001b[0m\u001b[1;33m(\u001b[0m\u001b[0mresume_clean\u001b[0m\u001b[1;33m)\u001b[0m\u001b[1;33m\u001b[0m\u001b[1;33m\u001b[0m\u001b[0m\n\u001b[0;32m      5\u001b[0m     \u001b[0mresume_list\u001b[0m\u001b[1;33m.\u001b[0m\u001b[0mappend\u001b[0m\u001b[1;33m(\u001b[0m\u001b[0mresume_result\u001b[0m\u001b[1;33m)\u001b[0m\u001b[1;33m\u001b[0m\u001b[1;33m\u001b[0m\u001b[0m\n",
      "\u001b[1;31mNameError\u001b[0m: name 'string_clean' is not defined"
     ]
    }
   ],
   "source": [
    "resume_list = []\n",
    "for i in resume_data.limit(10):\n",
    "    resume_clean = string_clean(i['value'])\n",
    "    resume_result = jieba_cut(resume_clean)\n",
    "    resume_list.append(resume_result)\n",
    "    \n",
    "print(resume_list)    "
   ]
  },
  {
   "cell_type": "code",
   "execution_count": 4,
   "metadata": {},
   "outputs": [
    {
     "ename": "NameError",
     "evalue": "name 'resume_list' is not defined",
     "output_type": "error",
     "traceback": [
      "\u001b[1;31m---------------------------------------------------------------------------\u001b[0m",
      "\u001b[1;31mNameError\u001b[0m                                 Traceback (most recent call last)",
      "\u001b[1;32m<ipython-input-4-234de0db4215>\u001b[0m in \u001b[0;36m<module>\u001b[1;34m\u001b[0m\n\u001b[0;32m      1\u001b[0m \u001b[0mworker_list\u001b[0m \u001b[1;33m=\u001b[0m \u001b[1;33m[\u001b[0m\u001b[1;33m]\u001b[0m\u001b[1;33m\u001b[0m\u001b[1;33m\u001b[0m\u001b[0m\n\u001b[1;32m----> 2\u001b[1;33m \u001b[1;32mfor\u001b[0m \u001b[0mw\u001b[0m \u001b[1;32min\u001b[0m \u001b[0mresume_list\u001b[0m\u001b[1;33m:\u001b[0m\u001b[1;33m\u001b[0m\u001b[1;33m\u001b[0m\u001b[0m\n\u001b[0m\u001b[0;32m      3\u001b[0m     \u001b[0mresume_jieba\u001b[0m \u001b[1;33m=\u001b[0m \u001b[1;33m[\u001b[0m\u001b[1;33m]\u001b[0m\u001b[1;33m\u001b[0m\u001b[1;33m\u001b[0m\u001b[0m\n\u001b[0;32m      4\u001b[0m     \u001b[1;32mfor\u001b[0m \u001b[0mww\u001b[0m \u001b[1;32min\u001b[0m \u001b[0mw\u001b[0m\u001b[1;33m:\u001b[0m\u001b[1;33m\u001b[0m\u001b[1;33m\u001b[0m\u001b[0m\n\u001b[0;32m      5\u001b[0m         \u001b[1;32mif\u001b[0m \u001b[0mww\u001b[0m \u001b[1;32min\u001b[0m \u001b[0mmodel2\u001b[0m\u001b[1;33m.\u001b[0m\u001b[0mwv\u001b[0m\u001b[1;33m.\u001b[0m\u001b[0mvocab\u001b[0m\u001b[1;33m.\u001b[0m\u001b[0mkeys\u001b[0m\u001b[1;33m(\u001b[0m\u001b[1;33m)\u001b[0m\u001b[1;33m:\u001b[0m\u001b[1;33m\u001b[0m\u001b[1;33m\u001b[0m\u001b[0m\n",
      "\u001b[1;31mNameError\u001b[0m: name 'resume_list' is not defined"
     ]
    }
   ],
   "source": [
    "worker_list = []\n",
    "for w in resume_list:\n",
    "    resume_jieba = []\n",
    "    for ww in w:\n",
    "        if ww in model2.wv.vocab.keys():\n",
    "            resume_jieba.append(ww)\n",
    "        else:\n",
    "            pass\n",
    "    worker_list.append(resume_jieba)"
   ]
  },
  {
   "cell_type": "code",
   "execution_count": 148,
   "metadata": {},
   "outputs": [
    {
     "data": {
      "text/plain": [
       "['後端',\n",
       " '工程師',\n",
       " 'City',\n",
       " 'TW',\n",
       " '開發',\n",
       " '電商',\n",
       " '專案',\n",
       " '網站',\n",
       " '工程師',\n",
       " '軟體',\n",
       " '工程師',\n",
       " 'MVC',\n",
       " '框架',\n",
       " '撰寫',\n",
       " 'PHP',\n",
       " '語言',\n",
       " 'HTML',\n",
       " 'CSS',\n",
       " 'JS',\n",
       " '開發',\n",
       " '前端',\n",
       " 'Linux',\n",
       " '作業',\n",
       " '系統',\n",
       " '知識',\n",
       " 'Shell',\n",
       " 'Script',\n",
       " '協助',\n",
       " '工具',\n",
       " 'AWS',\n",
       " '操作',\n",
       " 'API',\n",
       " 'Gateway',\n",
       " 'Lambda',\n",
       " 'Dev',\n",
       " 'ops',\n",
       " '自動化',\n",
       " 'Docker',\n",
       " '架設',\n",
       " '部署',\n",
       " '重複',\n",
       " '程式碼',\n",
       " '重構',\n",
       " '程式碼',\n",
       " '簡潔',\n",
       " '技能',\n",
       " 'Coding',\n",
       " 'Language',\n",
       " 'PHP',\n",
       " 'HTML',\n",
       " 'CSS',\n",
       " 'JavaScript',\n",
       " 'Python',\n",
       " 'Shell',\n",
       " 'Script',\n",
       " 'Vue',\n",
       " 'js',\n",
       " 'AWS',\n",
       " 'Lambda',\n",
       " 'Linux',\n",
       " 'Docker',\n",
       " 'PHP',\n",
       " 'Laravel',\n",
       " 'PostgreSQL',\n",
       " 'MySQL',\n",
       " 'English',\n",
       " 'TOEIC',\n",
       " 'Japanese',\n",
       " 'PL',\n",
       " '經歷',\n",
       " '基金',\n",
       " 'Side',\n",
       " 'job',\n",
       " '資訊',\n",
       " '顧問',\n",
       " '組織',\n",
       " '提倡',\n",
       " '海洋',\n",
       " '保育',\n",
       " '漁業',\n",
       " '永續',\n",
       " '發展',\n",
       " '協助',\n",
       " '資安',\n",
       " '防火牆',\n",
       " 'ssh',\n",
       " '設定',\n",
       " '專案',\n",
       " '系統',\n",
       " '解決',\n",
       " '方法',\n",
       " '協助',\n",
       " '建置',\n",
       " '專案',\n",
       " '測試',\n",
       " '開發',\n",
       " '日本',\n",
       " '解決',\n",
       " '方案',\n",
       " '工程師',\n",
       " '雲端',\n",
       " '解決',\n",
       " '方案',\n",
       " '客製化',\n",
       " 'Salesforce',\n",
       " 'SaaS',\n",
       " '產品',\n",
       " '基礎',\n",
       " 'JavaScript',\n",
       " '開發',\n",
       " 'RPG',\n",
       " '產品',\n",
       " '互動',\n",
       " 'JavaScript',\n",
       " '開發',\n",
       " '管理',\n",
       " '專案',\n",
       " '維護',\n",
       " '產品',\n",
       " '撰寫',\n",
       " 'shell',\n",
       " 'script',\n",
       " '工具',\n",
       " '整合',\n",
       " 'git',\n",
       " '內部',\n",
       " '技術',\n",
       " '顧問',\n",
       " '授權',\n",
       " '流程',\n",
       " '解說',\n",
       " '教育',\n",
       " 'git',\n",
       " 'flow',\n",
       " '流程',\n",
       " 'docker',\n",
       " '海外',\n",
       " '系統',\n",
       " '攻擊',\n",
       " '設定',\n",
       " '系統',\n",
       " 'Word',\n",
       " 'press',\n",
       " '作業',\n",
       " '系統',\n",
       " 'PHP',\n",
       " 'SSL',\n",
       " '憑證',\n",
       " '設定',\n",
       " '空間',\n",
       " '出差',\n",
       " '台灣',\n",
       " '宣傳',\n",
       " '超出',\n",
       " '工程師',\n",
       " '客服',\n",
       " '電話',\n",
       " '講師',\n",
       " '日本',\n",
       " '後端',\n",
       " '工程師',\n",
       " '銀行',\n",
       " 'jp',\n",
       " '人才',\n",
       " '媒合',\n",
       " 'Direct',\n",
       " 'plus',\n",
       " '衝刺',\n",
       " '專案',\n",
       " '建構',\n",
       " '管理',\n",
       " '招募',\n",
       " '流程',\n",
       " '管理',\n",
       " '後台',\n",
       " '管理',\n",
       " '功能',\n",
       " '開發',\n",
       " '產品',\n",
       " 'PHP',\n",
       " '框架',\n",
       " '開發',\n",
       " 'PHP',\n",
       " 'Yii',\n",
       " '框架',\n",
       " '基礎',\n",
       " 'AWS',\n",
       " '監控',\n",
       " '系統',\n",
       " 'Docker',\n",
       " '架設',\n",
       " '系統',\n",
       " '撰寫',\n",
       " 'shell',\n",
       " 'script',\n",
       " '工具',\n",
       " '檔案',\n",
       " '測試',\n",
       " '指令',\n",
       " '功能',\n",
       " '語言',\n",
       " '工具',\n",
       " 'TDD',\n",
       " '開發',\n",
       " '程式',\n",
       " '測試',\n",
       " '敏捷',\n",
       " '管理',\n",
       " '衝刺',\n",
       " '檢視',\n",
       " '回顧',\n",
       " 'Git',\n",
       " 'Flow',\n",
       " '控管',\n",
       " '開發',\n",
       " '部門',\n",
       " '外包',\n",
       " '開發',\n",
       " '日本',\n",
       " 'Engineer',\n",
       " '電商',\n",
       " '模組',\n",
       " '客製化',\n",
       " '解決',\n",
       " '方案',\n",
       " 'Run',\n",
       " 'floor',\n",
       " '籃球',\n",
       " '電商',\n",
       " '網站',\n",
       " '主導',\n",
       " '專案',\n",
       " '後端',\n",
       " '開發',\n",
       " '專案',\n",
       " 'DA',\n",
       " '招募',\n",
       " '功能',\n",
       " '網頁',\n",
       " '網域',\n",
       " 'API',\n",
       " '呼叫',\n",
       " '專案',\n",
       " '電商',\n",
       " '網站',\n",
       " '開發',\n",
       " '後端',\n",
       " '前端',\n",
       " '設計師',\n",
       " '工程師',\n",
       " '協作',\n",
       " '客製化',\n",
       " '開發',\n",
       " 'CC',\n",
       " '電商',\n",
       " '模組',\n",
       " '建立',\n",
       " 'Linux',\n",
       " '開發',\n",
       " '部署',\n",
       " '撰寫',\n",
       " 'shell',\n",
       " 'script',\n",
       " '搜尋',\n",
       " '工具',\n",
       " '排程',\n",
       " 'git',\n",
       " 'branch',\n",
       " '工具',\n",
       " '數位',\n",
       " '科技',\n",
       " 'AI',\n",
       " 'AI',\n",
       " 'WAN',\n",
       " '專案',\n",
       " '工程師',\n",
       " '電子',\n",
       " '帳單',\n",
       " '電子',\n",
       " '傳單',\n",
       " '整合',\n",
       " '系統',\n",
       " '客製化',\n",
       " '專案',\n",
       " '客製化',\n",
       " '銀行',\n",
       " '保險',\n",
       " '產業',\n",
       " '電子',\n",
       " '帳單',\n",
       " '系統',\n",
       " '帳單',\n",
       " '版面',\n",
       " 'C',\n",
       " 'ASP',\n",
       " 'NET',\n",
       " '語言',\n",
       " '開發',\n",
       " 'Windows',\n",
       " '系統',\n",
       " '排程',\n",
       " '網頁',\n",
       " '系統',\n",
       " '維護',\n",
       " '電話',\n",
       " '諮詢',\n",
       " '專案',\n",
       " '評估',\n",
       " '功能',\n",
       " '規格',\n",
       " '設計',\n",
       " '學歷',\n",
       " 'University',\n",
       " 'Master',\n",
       " 'Science',\n",
       " 'MS',\n",
       " 'Global',\n",
       " 'Marketing',\n",
       " 'Computer',\n",
       " 'Science',\n",
       " 'University',\n",
       " 'Bachelor',\n",
       " 'Degree',\n",
       " 'Information',\n",
       " 'Management',\n",
       " '專案',\n",
       " 'Run',\n",
       " 'Floor',\n",
       " '日本',\n",
       " '籃球',\n",
       " '電商',\n",
       " '平台',\n",
       " '設計',\n",
       " '主導',\n",
       " '專案',\n",
       " '系統',\n",
       " '架構',\n",
       " '功能',\n",
       " '設計',\n",
       " '後端',\n",
       " '開發',\n",
       " '測試',\n",
       " '部署',\n",
       " '收益',\n",
       " '收益',\n",
       " 'sales',\n",
       " 'fix',\n",
       " 'Application',\n",
       " '售後服務',\n",
       " '報修',\n",
       " '平台',\n",
       " '伺服器',\n",
       " '計算',\n",
       " '靜態',\n",
       " '網頁',\n",
       " 'AWS',\n",
       " 'API',\n",
       " 'Gateway',\n",
       " 'AWS',\n",
       " 'Lambda',\n",
       " '功能',\n",
       " '呼叫',\n",
       " 'API',\n",
       " '資訊',\n",
       " '資料',\n",
       " '存入',\n",
       " '資料庫',\n",
       " '後台',\n",
       " '系統',\n",
       " '查詢',\n",
       " 'project',\n",
       " 'current',\n",
       " '電子',\n",
       " '商務',\n",
       " '專案',\n",
       " '模板',\n",
       " '藍圖',\n",
       " '開發',\n",
       " '設計',\n",
       " '架設',\n",
       " '開發']"
      ]
     },
     "execution_count": 148,
     "metadata": {},
     "output_type": "execute_result"
    }
   ],
   "source": [
    "worker_list[7]"
   ]
  },
  {
   "cell_type": "code",
   "execution_count": 135,
   "metadata": {},
   "outputs": [
    {
     "data": {
      "text/plain": [
       "False"
      ]
     },
     "execution_count": 135,
     "metadata": {},
     "output_type": "execute_result"
    }
   ],
   "source": [
    "worker_list[0] == worker_list[1] == worker_list[2]"
   ]
  },
  {
   "cell_type": "code",
   "execution_count": 180,
   "metadata": {},
   "outputs": [
    {
     "name": "stdout",
     "output_type": "stream",
     "text": [
      "253059\n"
     ]
    }
   ],
   "source": [
    "print(len(model.wv.vocab.keys()))\n",
    "    \n"
   ]
  },
  {
   "cell_type": "code",
   "execution_count": 184,
   "metadata": {},
   "outputs": [],
   "source": [
    "mongo_connect_build('project', 'NoEng_data') \n",
    "job_data = data_find()\n",
    "\n",
    "in_jobURL = []\n",
    "for i in job_data:\n",
    "    in_jobURL.append(i['jobURL'])\n",
    "\n",
    "\n"
   ]
  },
  {
   "cell_type": "code",
   "execution_count": 185,
   "metadata": {},
   "outputs": [
    {
     "name": "stdout",
     "output_type": "stream",
     "text": [
      "['4g03i', '3mcu9', '6u28a', '71sst', '3li16', '4n9lx', '71ss1', '72eav', '71sjy', '6my03', '4tg80', '6wxw8', '70uh3', '7309j', '2ypym', '4f4qg', '5ocu8', '71rsi', '6p41q', '4p2wr', '71ui5', '682zi', '709hz', '4knru', '6w1bc', '72sxe', '6srk5', '2mf6l', '67g80', '720fs', '4w5ew', '71scm', '2jdv2', '721ng', '6p790', '6qvyz', '55ycc', '71tst', '6yw1d', '6yl0u', '6z2z6', '5gs2r', '71sib', '6p8cj', '730ak', '6wom1', '71ts0', '72qyy', '72d7v', '6pnha', '713w7', '6q9qh', '6p8d4', '5zsu2', '70q3x', '4p148', '6ujol', '6vfrs', '72dm3', '6uneh', '7306l', '72tiq', '5jdba', '72cs6', '71rwe', '3zfmw', '65wmc', '71trx', '6zot6', '42i4p', '6gbvt', '72t22', '71sl9', '4cyky', '72tiy', '7307t', '7309f', '6lcga', '72sij', '6pzv3', '70hwq', '6h6rd', '72swc', '71sjc', '6p6r9', '5dqoh', '3oiuk', '730a5', '7309w', '72s5k', '6lzdw', '3wyad', '6y5it', '4irx4', '71sa3', '6p6q5', '73098', '5pigr', '6u6kj', '70l1x']\n"
     ]
    }
   ],
   "source": [
    "print(in_jobURL[0:100])"
   ]
  },
  {
   "cell_type": "code",
   "execution_count": 186,
   "metadata": {},
   "outputs": [
    {
     "name": "stdout",
     "output_type": "stream",
     "text": [
      "120502\n"
     ]
    }
   ],
   "source": [
    "not_jobURL = []\n",
    "for j in model.wv.vocab.keys():\n",
    "    if j not in in_jobURL:\n",
    "        not_jobURL.append(j)\n",
    "print(len(not_jobURL))"
   ]
  },
  {
   "cell_type": "code",
   "execution_count": 2,
   "metadata": {},
   "outputs": [],
   "source": [
    "def select_data(user_list):\n",
    "    model.wv.most_similar(positive=user_list,negative=[],topn=20)"
   ]
  },
  {
   "cell_type": "code",
   "execution_count": 3,
   "metadata": {},
   "outputs": [
    {
     "ename": "NameError",
     "evalue": "name 'worker_list' is not defined",
     "output_type": "error",
     "traceback": [
      "\u001b[1;31m---------------------------------------------------------------------------\u001b[0m",
      "\u001b[1;31mNameError\u001b[0m                                 Traceback (most recent call last)",
      "\u001b[1;32m<ipython-input-3-f221e512053a>\u001b[0m in \u001b[0;36m<module>\u001b[1;34m\u001b[0m\n\u001b[1;32m----> 1\u001b[1;33m \u001b[0mselect_data\u001b[0m\u001b[1;33m(\u001b[0m\u001b[0mworker_list\u001b[0m\u001b[1;33m[\u001b[0m\u001b[1;36m3\u001b[0m\u001b[1;33m]\u001b[0m\u001b[1;33m)\u001b[0m\u001b[1;33m\u001b[0m\u001b[1;33m\u001b[0m\u001b[0m\n\u001b[0m",
      "\u001b[1;31mNameError\u001b[0m: name 'worker_list' is not defined"
     ]
    }
   ],
   "source": [
    "select_data(worker_list[3])"
   ]
  },
  {
   "cell_type": "code",
   "execution_count": 193,
   "metadata": {},
   "outputs": [
    {
     "data": {
      "text/plain": [
       "[('6fxob', 0.8765383362770081),\n",
       " ('6ybem', 0.863421618938446),\n",
       " ('72dw3', 0.8616987466812134),\n",
       " ('6yqea', 0.86049884557724),\n",
       " ('5vkzn', 0.860353946685791),\n",
       " ('5wjbp', 0.8597701787948608),\n",
       " ('6rete', 0.8586995005607605),\n",
       " ('4p2qu', 0.8585927486419678),\n",
       " ('6t1l8', 0.8584369421005249),\n",
       " ('48ujo', 0.8564149141311646),\n",
       " ('6hmin', 0.8551619648933411),\n",
       " ('6uwsk', 0.8549439311027527),\n",
       " ('70298', 0.85432368516922),\n",
       " ('62ybu', 0.8533684015274048),\n",
       " ('6eger', 0.851505696773529),\n",
       " ('70zkr', 0.8508985638618469),\n",
       " ('70ets', 0.8503397703170776),\n",
       " ('54ym7', 0.8502693176269531),\n",
       " ('6woou', 0.8499932289123535),\n",
       " ('6c1hk', 0.8480730056762695)]"
      ]
     },
     "execution_count": 193,
     "metadata": {},
     "output_type": "execute_result"
    }
   ],
   "source": [
    "model.wv.most_similar(positive=worker_list[3],negative=[],topn=20)"
   ]
  },
  {
   "cell_type": "code",
   "execution_count": 191,
   "metadata": {},
   "outputs": [
    {
     "data": {
      "text/plain": [
       "['後端',\n",
       " '工程師',\n",
       " 'City',\n",
       " 'TW',\n",
       " '開發',\n",
       " '電商',\n",
       " '專案',\n",
       " '網站',\n",
       " '工程師',\n",
       " '軟體',\n",
       " '工程師',\n",
       " 'MVC',\n",
       " '框架',\n",
       " '撰寫',\n",
       " 'PHP',\n",
       " '語言',\n",
       " 'HTML',\n",
       " 'CSS',\n",
       " 'JS',\n",
       " '開發',\n",
       " '前端',\n",
       " 'Linux',\n",
       " '作業',\n",
       " '系統',\n",
       " '知識',\n",
       " 'Shell',\n",
       " 'Script',\n",
       " '協助',\n",
       " '工具',\n",
       " 'AWS',\n",
       " '操作',\n",
       " 'API',\n",
       " 'Gateway',\n",
       " 'Lambda',\n",
       " 'Dev',\n",
       " 'ops',\n",
       " '自動化',\n",
       " 'Docker',\n",
       " '架設',\n",
       " '部署',\n",
       " '重複',\n",
       " '程式碼',\n",
       " '重構',\n",
       " '程式碼',\n",
       " '簡潔',\n",
       " '技能',\n",
       " 'Coding',\n",
       " 'Language',\n",
       " 'PHP',\n",
       " 'HTML',\n",
       " 'CSS',\n",
       " 'JavaScript',\n",
       " 'Python',\n",
       " 'Shell',\n",
       " 'Script',\n",
       " 'Vue',\n",
       " 'js',\n",
       " 'AWS',\n",
       " 'Lambda',\n",
       " 'Linux',\n",
       " 'Docker',\n",
       " 'PHP',\n",
       " 'Laravel',\n",
       " 'PostgreSQL',\n",
       " 'MySQL',\n",
       " 'English',\n",
       " 'TOEIC',\n",
       " 'Japanese',\n",
       " 'PL',\n",
       " '經歷',\n",
       " '基金',\n",
       " 'Side',\n",
       " 'job',\n",
       " '資訊',\n",
       " '顧問',\n",
       " '組織',\n",
       " '提倡',\n",
       " '海洋',\n",
       " '保育',\n",
       " '漁業',\n",
       " '永續',\n",
       " '發展',\n",
       " '協助',\n",
       " '資安',\n",
       " '防火牆',\n",
       " 'ssh',\n",
       " '設定',\n",
       " '專案',\n",
       " '系統',\n",
       " '解決',\n",
       " '方法',\n",
       " '協助',\n",
       " '建置',\n",
       " '專案',\n",
       " '測試',\n",
       " '開發',\n",
       " '日本',\n",
       " '解決',\n",
       " '方案',\n",
       " '工程師',\n",
       " '雲端',\n",
       " '解決',\n",
       " '方案',\n",
       " '客製化',\n",
       " 'Salesforce',\n",
       " 'SaaS',\n",
       " '產品',\n",
       " '基礎',\n",
       " 'JavaScript',\n",
       " '開發',\n",
       " 'RPG',\n",
       " '產品',\n",
       " '互動',\n",
       " 'JavaScript',\n",
       " '開發',\n",
       " '管理',\n",
       " '專案',\n",
       " '維護',\n",
       " '產品',\n",
       " '撰寫',\n",
       " 'shell',\n",
       " 'script',\n",
       " '工具',\n",
       " '整合',\n",
       " 'git',\n",
       " '內部',\n",
       " '技術',\n",
       " '顧問',\n",
       " '授權',\n",
       " '流程',\n",
       " '解說',\n",
       " '教育',\n",
       " 'git',\n",
       " 'flow',\n",
       " '流程',\n",
       " 'docker',\n",
       " '海外',\n",
       " '系統',\n",
       " '攻擊',\n",
       " '設定',\n",
       " '系統',\n",
       " 'Word',\n",
       " 'press',\n",
       " '作業',\n",
       " '系統',\n",
       " 'PHP',\n",
       " 'SSL',\n",
       " '憑證',\n",
       " '設定',\n",
       " '空間',\n",
       " '出差',\n",
       " '台灣',\n",
       " '宣傳',\n",
       " '超出',\n",
       " '工程師',\n",
       " '客服',\n",
       " '電話',\n",
       " '講師',\n",
       " '日本',\n",
       " '後端',\n",
       " '工程師',\n",
       " '銀行',\n",
       " 'jp',\n",
       " '人才',\n",
       " '媒合',\n",
       " 'Direct',\n",
       " 'plus',\n",
       " '衝刺',\n",
       " '專案',\n",
       " '建構',\n",
       " '管理',\n",
       " '招募',\n",
       " '流程',\n",
       " '管理',\n",
       " '後台',\n",
       " '管理',\n",
       " '功能',\n",
       " '開發',\n",
       " '產品',\n",
       " 'PHP',\n",
       " '框架',\n",
       " '開發',\n",
       " 'PHP',\n",
       " 'Yii',\n",
       " '框架',\n",
       " '基礎',\n",
       " 'AWS',\n",
       " '監控',\n",
       " '系統',\n",
       " 'Docker',\n",
       " '架設',\n",
       " '系統',\n",
       " '撰寫',\n",
       " 'shell',\n",
       " 'script',\n",
       " '工具',\n",
       " '檔案',\n",
       " '測試',\n",
       " '指令',\n",
       " '功能',\n",
       " '語言',\n",
       " '工具',\n",
       " 'TDD',\n",
       " '開發',\n",
       " '程式',\n",
       " '測試',\n",
       " '敏捷',\n",
       " '管理',\n",
       " '衝刺',\n",
       " '檢視',\n",
       " '回顧',\n",
       " 'Git',\n",
       " 'Flow',\n",
       " '控管',\n",
       " '開發',\n",
       " '部門',\n",
       " '外包',\n",
       " '開發',\n",
       " '日本',\n",
       " 'Engineer',\n",
       " '電商',\n",
       " '模組',\n",
       " '客製化',\n",
       " '解決',\n",
       " '方案',\n",
       " 'Run',\n",
       " 'floor',\n",
       " '籃球',\n",
       " '電商',\n",
       " '網站',\n",
       " '主導',\n",
       " '專案',\n",
       " '後端',\n",
       " '開發',\n",
       " '專案',\n",
       " 'DA',\n",
       " '招募',\n",
       " '功能',\n",
       " '網頁',\n",
       " '網域',\n",
       " 'API',\n",
       " '呼叫',\n",
       " '專案',\n",
       " '電商',\n",
       " '網站',\n",
       " '開發',\n",
       " '後端',\n",
       " '前端',\n",
       " '設計師',\n",
       " '工程師',\n",
       " '協作',\n",
       " '客製化',\n",
       " '開發',\n",
       " 'CC',\n",
       " '電商',\n",
       " '模組',\n",
       " '建立',\n",
       " 'Linux',\n",
       " '開發',\n",
       " '部署',\n",
       " '撰寫',\n",
       " 'shell',\n",
       " 'script',\n",
       " '搜尋',\n",
       " '工具',\n",
       " '排程',\n",
       " 'git',\n",
       " 'branch',\n",
       " '工具',\n",
       " '數位',\n",
       " '科技',\n",
       " 'AI',\n",
       " 'AI',\n",
       " 'WAN',\n",
       " '專案',\n",
       " '工程師',\n",
       " '電子',\n",
       " '帳單',\n",
       " '電子',\n",
       " '傳單',\n",
       " '整合',\n",
       " '系統',\n",
       " '客製化',\n",
       " '專案',\n",
       " '客製化',\n",
       " '銀行',\n",
       " '保險',\n",
       " '產業',\n",
       " '電子',\n",
       " '帳單',\n",
       " '系統',\n",
       " '帳單',\n",
       " '版面',\n",
       " 'C',\n",
       " 'ASP',\n",
       " 'NET',\n",
       " '語言',\n",
       " '開發',\n",
       " 'Windows',\n",
       " '系統',\n",
       " '排程',\n",
       " '網頁',\n",
       " '系統',\n",
       " '維護',\n",
       " '電話',\n",
       " '諮詢',\n",
       " '專案',\n",
       " '評估',\n",
       " '功能',\n",
       " '規格',\n",
       " '設計',\n",
       " '學歷',\n",
       " 'University',\n",
       " 'Master',\n",
       " 'Science',\n",
       " 'MS',\n",
       " 'Global',\n",
       " 'Marketing',\n",
       " 'Computer',\n",
       " 'Science',\n",
       " 'University',\n",
       " 'Bachelor',\n",
       " 'Degree',\n",
       " 'Information',\n",
       " 'Management',\n",
       " '專案',\n",
       " 'Run',\n",
       " 'Floor',\n",
       " '日本',\n",
       " '籃球',\n",
       " '電商',\n",
       " '平台',\n",
       " '設計',\n",
       " '主導',\n",
       " '專案',\n",
       " '系統',\n",
       " '架構',\n",
       " '功能',\n",
       " '設計',\n",
       " '後端',\n",
       " '開發',\n",
       " '測試',\n",
       " '部署',\n",
       " '收益',\n",
       " '收益',\n",
       " 'sales',\n",
       " 'fix',\n",
       " 'Application',\n",
       " '售後服務',\n",
       " '報修',\n",
       " '平台',\n",
       " '伺服器',\n",
       " '計算',\n",
       " '靜態',\n",
       " '網頁',\n",
       " 'AWS',\n",
       " 'API',\n",
       " 'Gateway',\n",
       " 'AWS',\n",
       " 'Lambda',\n",
       " '功能',\n",
       " '呼叫',\n",
       " 'API',\n",
       " '資訊',\n",
       " '資料',\n",
       " '存入',\n",
       " '資料庫',\n",
       " '後台',\n",
       " '系統',\n",
       " '查詢',\n",
       " 'project',\n",
       " 'current',\n",
       " '電子',\n",
       " '商務',\n",
       " '專案',\n",
       " '模板',\n",
       " '藍圖',\n",
       " '開發',\n",
       " '設計',\n",
       " '架設',\n",
       " '開發']"
      ]
     },
     "execution_count": 191,
     "metadata": {},
     "output_type": "execute_result"
    }
   ],
   "source": [
    "worker_list[7]"
   ]
  },
  {
   "cell_type": "code",
   "execution_count": null,
   "metadata": {},
   "outputs": [],
   "source": []
  }
 ],
 "metadata": {
  "kernelspec": {
   "display_name": "Python 3",
   "language": "python",
   "name": "python3"
  },
  "language_info": {
   "codemirror_mode": {
    "name": "ipython",
    "version": 3
   },
   "file_extension": ".py",
   "mimetype": "text/x-python",
   "name": "python",
   "nbconvert_exporter": "python",
   "pygments_lexer": "ipython3",
   "version": "3.7.4"
  }
 },
 "nbformat": 4,
 "nbformat_minor": 4
}
